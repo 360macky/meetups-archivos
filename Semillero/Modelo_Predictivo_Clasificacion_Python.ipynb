{
  "nbformat": 4,
  "nbformat_minor": 0,
  "metadata": {
    "colab": {
      "name": "Modelo_Predictivo_Clasificacion_Python",
      "provenance": []
    },
    "kernelspec": {
      "name": "python3",
      "display_name": "Python 3"
    }
  },
  "cells": [
    {
      "cell_type": "code",
      "metadata": {
        "id": "3F_hCbWInbfk",
        "colab_type": "code",
        "colab": {}
      },
      "source": [
        "import pandas as pd\n",
        "import numpy as np\n",
        "import matplotlib.pylab as pylab \n",
        "from matplotlib import pyplot as plt\n",
        "import seaborn as sns\n",
        "from scipy import stats \n",
        "from sklearn import metrics as mt\n",
        "\n",
        "%matplotlib inline\n",
        "pylab.rcParams['figure.figsize'] = 6,4\n",
        "\n",
        "# Ignorar warnings\n",
        "import warnings\n",
        "warnings.filterwarnings(\"ignore\")"
      ],
      "execution_count": 0,
      "outputs": []
    },
    {
      "cell_type": "code",
      "metadata": {
        "id": "mgc6gkGn6qEo",
        "colab_type": "code",
        "colab": {
          "base_uri": "https://localhost:8080/",
          "height": 359
        },
        "outputId": "00152a31-9877-40bc-8330-c659dcbc39ee"
      },
      "source": [
        "california_housing_dataframe = pd.read_csv(\"https://download.mlcc.google.com/mledu-datasets/california_housing_train.csv\", sep=\",\")\n",
        "california_housing_dataframe[\"median_house_value\"] = california_housing_dataframe[\"median_house_value\"].apply(lambda x: 1 if x > 100000.0 else 0)\n",
        "california_housing_dataframe.head(10)"
      ],
      "execution_count": 30,
      "outputs": [
        {
          "output_type": "execute_result",
          "data": {
            "text/html": [
              "<div>\n",
              "<style scoped>\n",
              "    .dataframe tbody tr th:only-of-type {\n",
              "        vertical-align: middle;\n",
              "    }\n",
              "\n",
              "    .dataframe tbody tr th {\n",
              "        vertical-align: top;\n",
              "    }\n",
              "\n",
              "    .dataframe thead th {\n",
              "        text-align: right;\n",
              "    }\n",
              "</style>\n",
              "<table border=\"1\" class=\"dataframe\">\n",
              "  <thead>\n",
              "    <tr style=\"text-align: right;\">\n",
              "      <th></th>\n",
              "      <th>longitude</th>\n",
              "      <th>latitude</th>\n",
              "      <th>housing_median_age</th>\n",
              "      <th>total_rooms</th>\n",
              "      <th>total_bedrooms</th>\n",
              "      <th>population</th>\n",
              "      <th>households</th>\n",
              "      <th>median_income</th>\n",
              "      <th>median_house_value</th>\n",
              "    </tr>\n",
              "  </thead>\n",
              "  <tbody>\n",
              "    <tr>\n",
              "      <th>0</th>\n",
              "      <td>-114.31</td>\n",
              "      <td>34.19</td>\n",
              "      <td>15.0</td>\n",
              "      <td>5612.0</td>\n",
              "      <td>1283.0</td>\n",
              "      <td>1015.0</td>\n",
              "      <td>472.0</td>\n",
              "      <td>1.4936</td>\n",
              "      <td>0</td>\n",
              "    </tr>\n",
              "    <tr>\n",
              "      <th>1</th>\n",
              "      <td>-114.47</td>\n",
              "      <td>34.40</td>\n",
              "      <td>19.0</td>\n",
              "      <td>7650.0</td>\n",
              "      <td>1901.0</td>\n",
              "      <td>1129.0</td>\n",
              "      <td>463.0</td>\n",
              "      <td>1.8200</td>\n",
              "      <td>0</td>\n",
              "    </tr>\n",
              "    <tr>\n",
              "      <th>2</th>\n",
              "      <td>-114.56</td>\n",
              "      <td>33.69</td>\n",
              "      <td>17.0</td>\n",
              "      <td>720.0</td>\n",
              "      <td>174.0</td>\n",
              "      <td>333.0</td>\n",
              "      <td>117.0</td>\n",
              "      <td>1.6509</td>\n",
              "      <td>0</td>\n",
              "    </tr>\n",
              "    <tr>\n",
              "      <th>3</th>\n",
              "      <td>-114.57</td>\n",
              "      <td>33.64</td>\n",
              "      <td>14.0</td>\n",
              "      <td>1501.0</td>\n",
              "      <td>337.0</td>\n",
              "      <td>515.0</td>\n",
              "      <td>226.0</td>\n",
              "      <td>3.1917</td>\n",
              "      <td>0</td>\n",
              "    </tr>\n",
              "    <tr>\n",
              "      <th>4</th>\n",
              "      <td>-114.57</td>\n",
              "      <td>33.57</td>\n",
              "      <td>20.0</td>\n",
              "      <td>1454.0</td>\n",
              "      <td>326.0</td>\n",
              "      <td>624.0</td>\n",
              "      <td>262.0</td>\n",
              "      <td>1.9250</td>\n",
              "      <td>0</td>\n",
              "    </tr>\n",
              "    <tr>\n",
              "      <th>5</th>\n",
              "      <td>-114.58</td>\n",
              "      <td>33.63</td>\n",
              "      <td>29.0</td>\n",
              "      <td>1387.0</td>\n",
              "      <td>236.0</td>\n",
              "      <td>671.0</td>\n",
              "      <td>239.0</td>\n",
              "      <td>3.3438</td>\n",
              "      <td>0</td>\n",
              "    </tr>\n",
              "    <tr>\n",
              "      <th>6</th>\n",
              "      <td>-114.58</td>\n",
              "      <td>33.61</td>\n",
              "      <td>25.0</td>\n",
              "      <td>2907.0</td>\n",
              "      <td>680.0</td>\n",
              "      <td>1841.0</td>\n",
              "      <td>633.0</td>\n",
              "      <td>2.6768</td>\n",
              "      <td>0</td>\n",
              "    </tr>\n",
              "    <tr>\n",
              "      <th>7</th>\n",
              "      <td>-114.59</td>\n",
              "      <td>34.83</td>\n",
              "      <td>41.0</td>\n",
              "      <td>812.0</td>\n",
              "      <td>168.0</td>\n",
              "      <td>375.0</td>\n",
              "      <td>158.0</td>\n",
              "      <td>1.7083</td>\n",
              "      <td>0</td>\n",
              "    </tr>\n",
              "    <tr>\n",
              "      <th>8</th>\n",
              "      <td>-114.59</td>\n",
              "      <td>33.61</td>\n",
              "      <td>34.0</td>\n",
              "      <td>4789.0</td>\n",
              "      <td>1175.0</td>\n",
              "      <td>3134.0</td>\n",
              "      <td>1056.0</td>\n",
              "      <td>2.1782</td>\n",
              "      <td>0</td>\n",
              "    </tr>\n",
              "    <tr>\n",
              "      <th>9</th>\n",
              "      <td>-114.60</td>\n",
              "      <td>34.83</td>\n",
              "      <td>46.0</td>\n",
              "      <td>1497.0</td>\n",
              "      <td>309.0</td>\n",
              "      <td>787.0</td>\n",
              "      <td>271.0</td>\n",
              "      <td>2.1908</td>\n",
              "      <td>0</td>\n",
              "    </tr>\n",
              "  </tbody>\n",
              "</table>\n",
              "</div>"
            ],
            "text/plain": [
              "   longitude  latitude  ...  median_income  median_house_value\n",
              "0    -114.31     34.19  ...         1.4936                   0\n",
              "1    -114.47     34.40  ...         1.8200                   0\n",
              "2    -114.56     33.69  ...         1.6509                   0\n",
              "3    -114.57     33.64  ...         3.1917                   0\n",
              "4    -114.57     33.57  ...         1.9250                   0\n",
              "5    -114.58     33.63  ...         3.3438                   0\n",
              "6    -114.58     33.61  ...         2.6768                   0\n",
              "7    -114.59     34.83  ...         1.7083                   0\n",
              "8    -114.59     33.61  ...         2.1782                   0\n",
              "9    -114.60     34.83  ...         2.1908                   0\n",
              "\n",
              "[10 rows x 9 columns]"
            ]
          },
          "metadata": {
            "tags": []
          },
          "execution_count": 30
        }
      ]
    },
    {
      "cell_type": "code",
      "metadata": {
        "id": "3yqoKxe-PrfV",
        "colab_type": "code",
        "colab": {
          "base_uri": "https://localhost:8080/",
          "height": 187
        },
        "outputId": "58b93e40-9f72-4a91-8951-6b4a03cacc01"
      },
      "source": [
        "california_housing_dataframe.count()"
      ],
      "execution_count": 31,
      "outputs": [
        {
          "output_type": "execute_result",
          "data": {
            "text/plain": [
              "longitude             17000\n",
              "latitude              17000\n",
              "housing_median_age    17000\n",
              "total_rooms           17000\n",
              "total_bedrooms        17000\n",
              "population            17000\n",
              "households            17000\n",
              "median_income         17000\n",
              "median_house_value    17000\n",
              "dtype: int64"
            ]
          },
          "metadata": {
            "tags": []
          },
          "execution_count": 31
        }
      ]
    },
    {
      "cell_type": "code",
      "metadata": {
        "id": "i_gUx5kWQkIk",
        "colab_type": "code",
        "colab": {}
      },
      "source": [
        "data_train = california_housing_dataframe[:11900]\n",
        "data_test = california_housing_dataframe[11900:]"
      ],
      "execution_count": 0,
      "outputs": []
    },
    {
      "cell_type": "code",
      "metadata": {
        "id": "wMQu3wn-Zlxy",
        "colab_type": "code",
        "colab": {
          "base_uri": "https://localhost:8080/",
          "height": 357
        },
        "outputId": "51266499-cf44-4ba0-90c9-df9da3d0966c"
      },
      "source": [
        "print(data_train.count())\n",
        "print(data_test.count())"
      ],
      "execution_count": 33,
      "outputs": [
        {
          "output_type": "stream",
          "text": [
            "longitude             11900\n",
            "latitude              11900\n",
            "housing_median_age    11900\n",
            "total_rooms           11900\n",
            "total_bedrooms        11900\n",
            "population            11900\n",
            "households            11900\n",
            "median_income         11900\n",
            "median_house_value    11900\n",
            "dtype: int64\n",
            "longitude             5100\n",
            "latitude              5100\n",
            "housing_median_age    5100\n",
            "total_rooms           5100\n",
            "total_bedrooms        5100\n",
            "population            5100\n",
            "households            5100\n",
            "median_income         5100\n",
            "median_house_value    5100\n",
            "dtype: int64\n"
          ],
          "name": "stdout"
        }
      ]
    },
    {
      "cell_type": "code",
      "metadata": {
        "id": "R2Dm3F6KaQBY",
        "colab_type": "code",
        "colab": {
          "base_uri": "https://localhost:8080/",
          "height": 119
        },
        "outputId": "21ffe334-95d8-4ebc-8241-6b913648f568"
      },
      "source": [
        "# Distribución del Target\n",
        "print(data_train[\"median_house_value\"].value_counts(dropna=False))\n",
        "print(data_train[\"median_house_value\"].value_counts(dropna=False, normalize = True)*100)"
      ],
      "execution_count": 37,
      "outputs": [
        {
          "output_type": "stream",
          "text": [
            "1    9745\n",
            "0    2155\n",
            "Name: median_house_value, dtype: int64\n",
            "1    81.890756\n",
            "0    18.109244\n",
            "Name: median_house_value, dtype: float64\n"
          ],
          "name": "stdout"
        }
      ]
    },
    {
      "cell_type": "code",
      "metadata": {
        "id": "ZDEmxX8kcHq9",
        "colab_type": "code",
        "colab": {
          "base_uri": "https://localhost:8080/",
          "height": 328
        },
        "outputId": "f576a4d0-bd5b-471a-e65d-ceb33fb8ff11"
      },
      "source": [
        "# Generar estadisticos básicos para cada variable:\n",
        "### count: Count number of non-NA/null observations.\t\n",
        "### mean: Mean of the values.\n",
        "### std: Standard deviation of the observations.\n",
        "### min: Minimum of the values in the object.\n",
        "### X%: The value of Quartil: 25% - Q1 , 50% - Q2, 75% - Q3\n",
        "### max: Maximum of the values in the object.\n",
        "data_train.describe(include = 'all').T"
      ],
      "execution_count": 39,
      "outputs": [
        {
          "output_type": "execute_result",
          "data": {
            "text/html": [
              "<div>\n",
              "<style scoped>\n",
              "    .dataframe tbody tr th:only-of-type {\n",
              "        vertical-align: middle;\n",
              "    }\n",
              "\n",
              "    .dataframe tbody tr th {\n",
              "        vertical-align: top;\n",
              "    }\n",
              "\n",
              "    .dataframe thead th {\n",
              "        text-align: right;\n",
              "    }\n",
              "</style>\n",
              "<table border=\"1\" class=\"dataframe\">\n",
              "  <thead>\n",
              "    <tr style=\"text-align: right;\">\n",
              "      <th></th>\n",
              "      <th>count</th>\n",
              "      <th>mean</th>\n",
              "      <th>std</th>\n",
              "      <th>min</th>\n",
              "      <th>25%</th>\n",
              "      <th>50%</th>\n",
              "      <th>75%</th>\n",
              "      <th>max</th>\n",
              "    </tr>\n",
              "  </thead>\n",
              "  <tbody>\n",
              "    <tr>\n",
              "      <th>longitude</th>\n",
              "      <td>11900.0</td>\n",
              "      <td>-118.445868</td>\n",
              "      <td>1.219846</td>\n",
              "      <td>-121.3600</td>\n",
              "      <td>-118.86000</td>\n",
              "      <td>-118.21000</td>\n",
              "      <td>-117.7800</td>\n",
              "      <td>-114.3100</td>\n",
              "    </tr>\n",
              "    <tr>\n",
              "      <th>latitude</th>\n",
              "      <td>11900.0</td>\n",
              "      <td>34.582482</td>\n",
              "      <td>1.593813</td>\n",
              "      <td>32.5400</td>\n",
              "      <td>33.82000</td>\n",
              "      <td>34.05000</td>\n",
              "      <td>34.4300</td>\n",
              "      <td>41.8200</td>\n",
              "    </tr>\n",
              "    <tr>\n",
              "      <th>housing_median_age</th>\n",
              "      <td>11900.0</td>\n",
              "      <td>27.480756</td>\n",
              "      <td>12.066142</td>\n",
              "      <td>1.0000</td>\n",
              "      <td>17.00000</td>\n",
              "      <td>28.00000</td>\n",
              "      <td>36.0000</td>\n",
              "      <td>52.0000</td>\n",
              "    </tr>\n",
              "    <tr>\n",
              "      <th>total_rooms</th>\n",
              "      <td>11900.0</td>\n",
              "      <td>2655.122521</td>\n",
              "      <td>2259.588716</td>\n",
              "      <td>2.0000</td>\n",
              "      <td>1451.00000</td>\n",
              "      <td>2111.50000</td>\n",
              "      <td>3144.2500</td>\n",
              "      <td>37937.0000</td>\n",
              "    </tr>\n",
              "    <tr>\n",
              "      <th>total_bedrooms</th>\n",
              "      <td>11900.0</td>\n",
              "      <td>547.401513</td>\n",
              "      <td>434.755158</td>\n",
              "      <td>2.0000</td>\n",
              "      <td>299.00000</td>\n",
              "      <td>438.00000</td>\n",
              "      <td>653.0000</td>\n",
              "      <td>5471.0000</td>\n",
              "    </tr>\n",
              "    <tr>\n",
              "      <th>population</th>\n",
              "      <td>11900.0</td>\n",
              "      <td>1477.440420</td>\n",
              "      <td>1174.909381</td>\n",
              "      <td>3.0000</td>\n",
              "      <td>816.00000</td>\n",
              "      <td>1208.00000</td>\n",
              "      <td>1779.0000</td>\n",
              "      <td>35682.0000</td>\n",
              "    </tr>\n",
              "    <tr>\n",
              "      <th>households</th>\n",
              "      <td>11900.0</td>\n",
              "      <td>505.572857</td>\n",
              "      <td>391.947580</td>\n",
              "      <td>2.0000</td>\n",
              "      <td>283.00000</td>\n",
              "      <td>411.00000</td>\n",
              "      <td>606.0000</td>\n",
              "      <td>5189.0000</td>\n",
              "    </tr>\n",
              "    <tr>\n",
              "      <th>median_income</th>\n",
              "      <td>11900.0</td>\n",
              "      <td>3.795066</td>\n",
              "      <td>1.854795</td>\n",
              "      <td>0.4999</td>\n",
              "      <td>2.51495</td>\n",
              "      <td>3.46025</td>\n",
              "      <td>4.6474</td>\n",
              "      <td>15.0001</td>\n",
              "    </tr>\n",
              "    <tr>\n",
              "      <th>median_house_value</th>\n",
              "      <td>11900.0</td>\n",
              "      <td>0.818908</td>\n",
              "      <td>0.385111</td>\n",
              "      <td>0.0000</td>\n",
              "      <td>1.00000</td>\n",
              "      <td>1.00000</td>\n",
              "      <td>1.0000</td>\n",
              "      <td>1.0000</td>\n",
              "    </tr>\n",
              "  </tbody>\n",
              "</table>\n",
              "</div>"
            ],
            "text/plain": [
              "                      count         mean  ...        75%         max\n",
              "longitude           11900.0  -118.445868  ...  -117.7800   -114.3100\n",
              "latitude            11900.0    34.582482  ...    34.4300     41.8200\n",
              "housing_median_age  11900.0    27.480756  ...    36.0000     52.0000\n",
              "total_rooms         11900.0  2655.122521  ...  3144.2500  37937.0000\n",
              "total_bedrooms      11900.0   547.401513  ...   653.0000   5471.0000\n",
              "population          11900.0  1477.440420  ...  1779.0000  35682.0000\n",
              "households          11900.0   505.572857  ...   606.0000   5189.0000\n",
              "median_income       11900.0     3.795066  ...     4.6474     15.0001\n",
              "median_house_value  11900.0     0.818908  ...     1.0000      1.0000\n",
              "\n",
              "[9 rows x 8 columns]"
            ]
          },
          "metadata": {
            "tags": []
          },
          "execution_count": 39
        }
      ]
    },
    {
      "cell_type": "code",
      "metadata": {
        "id": "4s9YaeW1cvp2",
        "colab_type": "code",
        "colab": {
          "base_uri": "https://localhost:8080/",
          "height": 762
        },
        "outputId": "81c71fe6-fa25-4eab-be62-998be74e70f2"
      },
      "source": [
        "import missingno as msno\n",
        "msno.matrix(data_train)"
      ],
      "execution_count": 41,
      "outputs": [
        {
          "output_type": "execute_result",
          "data": {
            "text/plain": [
              "<matplotlib.axes._subplots.AxesSubplot at 0x7f3afd5fbc18>"
            ]
          },
          "metadata": {
            "tags": []
          },
          "execution_count": 41
        },
        {
          "output_type": "display_data",
          "data": {
            "image/png": "[encoded data removed]",
            "text/plain": [
              "<Figure size 1800x720 with 2 Axes>"
            ]
          },
          "metadata": {
            "tags": []
          }
        }
      ]
    },
    {
      "cell_type": "code",
      "metadata": {
        "id": "1-vDMH49c3tY",
        "colab_type": "code",
        "colab": {
          "base_uri": "https://localhost:8080/",
          "height": 238
        },
        "outputId": "b36a461a-5d24-4777-aa7f-cf9d1487419a"
      },
      "source": [
        "# New Feature 1\n",
        "data_train[\"rooms_per_person\"] = (data_train[\"total_rooms\"] / data_train[\"population\"])\n",
        "data_test[\"rooms_per_person\"] = (data_test[\"total_rooms\"] / data_test[\"population\"])\n",
        "#longitude\tlatitude\thousing_median_age\ttotal_rooms\ttotal_bedrooms\tpopulation\thouseholds\tmedian_income\tmedian_house_value\n",
        "#tmp_byAdultoMayor_medianMontoMes = ds_train.groupby(['AdultoMayor'])['MontoCargadoMes'].median().round()\n",
        "#tmp_byAdultoMayor_medianMontoMes\n",
        "print(data_train.head(10))"
      ],
      "execution_count": 46,
      "outputs": [
        {
          "output_type": "stream",
          "text": [
            "   longitude  latitude  ...  median_house_value  rooms_per_person\n",
            "0    -114.31     34.19  ...                   0          5.529064\n",
            "1    -114.47     34.40  ...                   0          6.775908\n",
            "2    -114.56     33.69  ...                   0          2.162162\n",
            "3    -114.57     33.64  ...                   0          2.914563\n",
            "4    -114.57     33.57  ...                   0          2.330128\n",
            "5    -114.58     33.63  ...                   0          2.067064\n",
            "6    -114.58     33.61  ...                   0          1.579033\n",
            "7    -114.59     34.83  ...                   0          2.165333\n",
            "8    -114.59     33.61  ...                   0          1.528079\n",
            "9    -114.60     34.83  ...                   0          1.902160\n",
            "\n",
            "[10 rows x 10 columns]\n"
          ],
          "name": "stdout"
        }
      ]
    },
    {
      "cell_type": "code",
      "metadata": {
        "id": "oNN9kJO2nkiI",
        "colab_type": "code",
        "colab": {
          "base_uri": "https://localhost:8080/",
          "height": 238
        },
        "outputId": "a7dae1ec-a6e3-4ee0-c478-a3c34755eb73"
      },
      "source": [
        "cols = data_train.columns.tolist()\n",
        "cols = cols[-1:] + cols[:-1]\n",
        "data_train = data_train[cols]  #    OR    df = df.ix[:, cols]\n",
        "print(data_train.head(10))"
      ],
      "execution_count": 47,
      "outputs": [
        {
          "output_type": "stream",
          "text": [
            "   rooms_per_person  longitude  ...  median_income  median_house_value\n",
            "0          5.529064    -114.31  ...         1.4936                   0\n",
            "1          6.775908    -114.47  ...         1.8200                   0\n",
            "2          2.162162    -114.56  ...         1.6509                   0\n",
            "3          2.914563    -114.57  ...         3.1917                   0\n",
            "4          2.330128    -114.57  ...         1.9250                   0\n",
            "5          2.067064    -114.58  ...         3.3438                   0\n",
            "6          1.579033    -114.58  ...         2.6768                   0\n",
            "7          2.165333    -114.59  ...         1.7083                   0\n",
            "8          1.528079    -114.59  ...         2.1782                   0\n",
            "9          1.902160    -114.60  ...         2.1908                   0\n",
            "\n",
            "[10 rows x 10 columns]\n"
          ],
          "name": "stdout"
        }
      ]
    },
    {
      "cell_type": "code",
      "metadata": {
        "id": "Vcvj9ANKoTYX",
        "colab_type": "code",
        "colab": {}
      },
      "source": [
        "features_to_model = list(data_train.columns)\n",
        "TARGET = 'median_house_value'\n",
        "features_to_model.remove(TARGET)\n",
        "X = data_train[features_to_model]\n",
        "y = data_train[TARGET]\n",
        "X_summit = data_test[features_to_model]"
      ],
      "execution_count": 0,
      "outputs": []
    },
    {
      "cell_type": "code",
      "metadata": {
        "id": "MrSAx0bfo5k7",
        "colab_type": "code",
        "colab": {
          "base_uri": "https://localhost:8080/",
          "height": 34
        },
        "outputId": "893ce609-c6d7-454b-b72a-20530b86923c"
      },
      "source": [
        "from sklearn import model_selection\n",
        "X_train, X_test, y_train, y_test = model_selection.train_test_split(X, y, train_size = 0.70, random_state=9)\n",
        "print((len(X_train), len(y_train)), (len(X_test), len(y_test)))"
      ],
      "execution_count": 50,
      "outputs": [
        {
          "output_type": "stream",
          "text": [
            "(8330, 8330) (3570, 3570)\n"
          ],
          "name": "stdout"
        }
      ]
    },
    {
      "cell_type": "code",
      "metadata": {
        "id": "NlM9RslGpGC0",
        "colab_type": "code",
        "colab": {
          "base_uri": "https://localhost:8080/",
          "height": 328
        },
        "outputId": "c5bc99f6-26b8-4c13-d4e0-22926f3c88ff"
      },
      "source": [
        "from sklearn.linear_model import LogisticRegression\n",
        "# Create  model objet \n",
        "# https://scikit-learn.org/stable/modules/generated/sklearn.linear_model.LogisticRegression.html\n",
        "model_rlog = LogisticRegression(C=0.01, max_iter= 100, random_state=0, n_jobs = 4, penalty = 'l2')\n",
        "# Fit the model:\n",
        "model_rlog.fit(X_train, y_train)\n",
        "model = model_rlog \n",
        "df_weights = pd.DataFrame({'feature':X_train.columns.values, 'beta': np.round(model_rlog.coef_[0],4) })\n",
        "df_weights"
      ],
      "execution_count": 52,
      "outputs": [
        {
          "output_type": "execute_result",
          "data": {
            "text/html": [
              "<div>\n",
              "<style scoped>\n",
              "    .dataframe tbody tr th:only-of-type {\n",
              "        vertical-align: middle;\n",
              "    }\n",
              "\n",
              "    .dataframe tbody tr th {\n",
              "        vertical-align: top;\n",
              "    }\n",
              "\n",
              "    .dataframe thead th {\n",
              "        text-align: right;\n",
              "    }\n",
              "</style>\n",
              "<table border=\"1\" class=\"dataframe\">\n",
              "  <thead>\n",
              "    <tr style=\"text-align: right;\">\n",
              "      <th></th>\n",
              "      <th>feature</th>\n",
              "      <th>beta</th>\n",
              "    </tr>\n",
              "  </thead>\n",
              "  <tbody>\n",
              "    <tr>\n",
              "      <th>0</th>\n",
              "      <td>rooms_per_person</td>\n",
              "      <td>0.2075</td>\n",
              "    </tr>\n",
              "    <tr>\n",
              "      <th>1</th>\n",
              "      <td>longitude</td>\n",
              "      <td>-0.1493</td>\n",
              "    </tr>\n",
              "    <tr>\n",
              "      <th>2</th>\n",
              "      <td>latitude</td>\n",
              "      <td>-0.6023</td>\n",
              "    </tr>\n",
              "    <tr>\n",
              "      <th>3</th>\n",
              "      <td>housing_median_age</td>\n",
              "      <td>0.0045</td>\n",
              "    </tr>\n",
              "    <tr>\n",
              "      <th>4</th>\n",
              "      <td>total_rooms</td>\n",
              "      <td>-0.0007</td>\n",
              "    </tr>\n",
              "    <tr>\n",
              "      <th>5</th>\n",
              "      <td>total_bedrooms</td>\n",
              "      <td>0.0022</td>\n",
              "    </tr>\n",
              "    <tr>\n",
              "      <th>6</th>\n",
              "      <td>population</td>\n",
              "      <td>-0.0002</td>\n",
              "    </tr>\n",
              "    <tr>\n",
              "      <th>7</th>\n",
              "      <td>households</td>\n",
              "      <td>0.0022</td>\n",
              "    </tr>\n",
              "    <tr>\n",
              "      <th>8</th>\n",
              "      <td>median_income</td>\n",
              "      <td>1.3676</td>\n",
              "    </tr>\n",
              "  </tbody>\n",
              "</table>\n",
              "</div>"
            ],
            "text/plain": [
              "              feature    beta\n",
              "0    rooms_per_person  0.2075\n",
              "1           longitude -0.1493\n",
              "2            latitude -0.6023\n",
              "3  housing_median_age  0.0045\n",
              "4         total_rooms -0.0007\n",
              "5      total_bedrooms  0.0022\n",
              "6          population -0.0002\n",
              "7          households  0.0022\n",
              "8       median_income  1.3676"
            ]
          },
          "metadata": {
            "tags": []
          },
          "execution_count": 52
        }
      ]
    },
    {
      "cell_type": "code",
      "metadata": {
        "id": "mL3NCGhQqrR2",
        "colab_type": "code",
        "colab": {}
      },
      "source": [
        "# Generar las predicciones:\n",
        "y_pred_train = model.predict(X_train)\n",
        "y_pred_test = model.predict(X_test)\n",
        "\n",
        "# Generar las probabilidades\n",
        "y_pred_proba_train = model.predict_proba(X_train)[:,1]\n",
        "y_pred_proba_test = model.predict_proba(X_test)[:,1]"
      ],
      "execution_count": 0,
      "outputs": []
    },
    {
      "cell_type": "code",
      "metadata": {
        "id": "zDqdxchZqu7n",
        "colab_type": "code",
        "colab": {
          "base_uri": "https://localhost:8080/",
          "height": 51
        },
        "outputId": "67538a87-daac-4df3-d2ee-5cec90cbfa7c"
      },
      "source": [
        "accuracy_train = mt.accuracy_score(y_train, y_pred_train)\n",
        "accuracy_test = mt.accuracy_score(y_test, y_pred_test)\n",
        "\n",
        "print(\"Accuracy - Train: {}\".format(accuracy_train))\n",
        "print(\"Accuracy - Test : {}\".format(accuracy_test))"
      ],
      "execution_count": 54,
      "outputs": [
        {
          "output_type": "stream",
          "text": [
            "Accuracy - Train: 0.8606242496998799\n",
            "Accuracy - Test : 0.8523809523809524\n"
          ],
          "name": "stdout"
        }
      ]
    },
    {
      "cell_type": "code",
      "metadata": {
        "id": "WT2PgzGiqySM",
        "colab_type": "code",
        "colab": {
          "base_uri": "https://localhost:8080/",
          "height": 282
        },
        "outputId": "abdcc0cf-43f2-40a5-84c9-61b94e633c0a"
      },
      "source": [
        "list_accuracy_test = []\n",
        "for threshold in range(0,100):\n",
        "  pred_0_1 = [1 if x >= threshold/100 else 0 for x in y_pred_proba_test]\n",
        "  list_accuracy_test.append(mt.accuracy_score(y_test, pred_0_1))\n",
        "xs = [x/100 for x in range(0,100)]\n",
        "ys = list_accuracy_test\n",
        "plt.plot(xs, ys)"
      ],
      "execution_count": 55,
      "outputs": [
        {
          "output_type": "execute_result",
          "data": {
            "text/plain": [
              "[<matplotlib.lines.Line2D at 0x7f3af8ead668>]"
            ]
          },
          "metadata": {
            "tags": []
          },
          "execution_count": 55
        },
        {
          "output_type": "display_data",
          "data": {
            "image/png": "[encoded data removed]",
            "text/plain": [
              "<Figure size 432x288 with 1 Axes>"
            ]
          },
          "metadata": {
            "tags": []
          }
        }
      ]
    },
    {
      "cell_type": "code",
      "metadata": {
        "id": "9EQVTABCrS36",
        "colab_type": "code",
        "colab": {
          "base_uri": "https://localhost:8080/",
          "height": 34
        },
        "outputId": "7668da66-3ea6-4357-9eee-5038b23e3b3a"
      },
      "source": [
        "best_scoring = max(list_accuracy_test)\n",
        "best_threshold = list_accuracy_test.index(best_scoring)/100\n",
        "print(\"El mejor threshold es: {}\".format(best_threshold))"
      ],
      "execution_count": 56,
      "outputs": [
        {
          "output_type": "stream",
          "text": [
            "El mejor threshold es: 0.59\n"
          ],
          "name": "stdout"
        }
      ]
    },
    {
      "cell_type": "code",
      "metadata": {
        "id": "Vhvab-DyrYuk",
        "colab_type": "code",
        "colab": {
          "base_uri": "https://localhost:8080/",
          "height": 51
        },
        "outputId": "94c8ba49-9880-4971-94c6-1c96cdb13466"
      },
      "source": [
        "accuracy_train = mt.accuracy_score(y_train, [1 if x >= best_threshold else 0 for x in y_pred_proba_train])\n",
        "accuracy_test = mt.accuracy_score(y_test, [1 if x >= best_threshold else 0 for x in y_pred_proba_test])\n",
        "\n",
        "print(\"Accuracy - Train: {}\".format(accuracy_train))\n",
        "print(\"Accuracy - Test : {}\".format(accuracy_test))"
      ],
      "execution_count": 57,
      "outputs": [
        {
          "output_type": "stream",
          "text": [
            "Accuracy - Train: 0.8619447779111644\n",
            "Accuracy - Test : 0.8549019607843137\n"
          ],
          "name": "stdout"
        }
      ]
    }
  ]
}